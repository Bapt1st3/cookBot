{
 "cells": [
  {
   "cell_type": "markdown",
   "metadata": {},
   "source": [
    "# Preparing the dataset"
   ]
  },
  {
   "cell_type": "code",
   "execution_count": 2,
   "metadata": {},
   "outputs": [
    {
     "name": "stdout",
     "output_type": "stream",
     "text": [
      "Found the file at: c:\\Users\\bpretet\\Documents\\cookBot\\dataset\\RecipeNLG_dataset.7z\n"
     ]
    }
   ],
   "source": [
    "import py7zr\n",
    "import pandas as pd\n",
    "import os\n",
    "\n",
    "\n",
    "# Function to categorize diets based on ingredients\n",
    "def categorize_diet(ingredients):\n",
    "    ingredients = ingredients.lower()\n",
    "    if any(word in ingredients for word in [\"meat\", \"chicken\", \"beef\", \"pork\"]):\n",
    "        return 'non-vegetarian'\n",
    "    if \"fish\" in ingredients or \"seafood\" in ingredients:\n",
    "        return 'pescatarian'\n",
    "    if \"cheese\" in ingredients or \"egg\" in ingredients or \"dairy\" in ingredients:\n",
    "        return 'vegetarian'\n",
    "    if all(word not in ingredients for word in [\"meat\", \"egg\", \"cheese\", \"dairy\"]):\n",
    "        return 'vegan'\n",
    "    return 'unknown'\n",
    "\n",
    "# Function to categorize allergies based on ingredients\n",
    "def check_allergies(ingredients):\n",
    "    allergies = []\n",
    "    if any(word in ingredients for word in [\"nut\", \"almond\", \"peanut\"]):\n",
    "        allergies.append(\"nut-free\")\n",
    "    if \"dairy\" in ingredients or \"milk\" in ingredients:\n",
    "        allergies.append(\"dairy-free\")\n",
    "    if \"gluten\" in ingredients or \"wheat\" in ingredients:\n",
    "        allergies.append(\"gluten-free\")\n",
    "    return allergies\n",
    "\n",
    "# Load and clean the data\n",
    "def load_and_clean_data(file_path):\n",
    "    with py7zr.SevenZipFile(file_path, mode='r') as archive:\n",
    "        file_names = archive.getnames()\n",
    "        csv_file_name = file_names[0]\n",
    "        csv_content = archive.read([csv_file_name])[csv_file_name]\n",
    "\n",
    "        # Directly use csv_content, which is a BytesIO object\n",
    "        df = pd.read_csv(csv_content)\n",
    "    \n",
    "    # Categorize diet and check for allergies\n",
    "    df['diet'] = df['ingredients'].apply(categorize_diet)\n",
    "    df['allergies'] = df['ingredients'].apply(check_allergies)\n",
    "\n",
    "    # Taste preferences (basic rule-based assignment)\n",
    "    def assign_taste(ingredients):\n",
    "        ingredients = ingredients.lower()\n",
    "        if any(word in ingredients for word in [\"chili\"]):\n",
    "            return 'spicy'\n",
    "        if any(word in ingredients for word in [\"sugar\", \"honey\", \"sweet\"]):\n",
    "            return 'sweet'\n",
    "        if any(word in ingredients for word in [\"lemon\", \"vinegar\", \"sour\"]):\n",
    "            return 'sour'\n",
    "        return 'savory'\n",
    "    \n",
    "    # Add taste column\n",
    "    df['taste'] = df['ingredients'].apply(assign_taste)\n",
    "\n",
    "    return df\n",
    "\n",
    "# Absolute path to the .7z file in the 'dataset' directory\n",
    "seven_z_file = r'c:\\Users\\bpretet\\Documents\\cookBot\\dataset\\RecipeNLG_dataset.7z'\n",
    "\n",
    "# Check if the file exists\n",
    "if not os.path.exists(seven_z_file):\n",
    "    print(f\"File not found: {seven_z_file}\")\n",
    "else:\n",
    "    print(f\"Found the file at: {seven_z_file}\")\n",
    "    \n",
    "    # Load and clean the dataset\n",
    "    cleaned_data = load_and_clean_data(seven_z_file)\n",
    "    \n",
    "    # Display the first few rows of the cleaned data\n",
    "\n",
    "    cleaned_data = cleaned_data.drop(cleaned_data.columns[0], axis=1)\n",
    "\n"
   ]
  },
  {
   "cell_type": "markdown",
   "metadata": {},
   "source": [
    "# Preprocessing the Dataset"
   ]
  },
  {
   "cell_type": "code",
   "execution_count": 3,
   "metadata": {},
   "outputs": [],
   "source": [
    "#vectorising the recipes using TF-ID\n",
    "from sklearn.feature_extraction.text import TfidfVectorizer\n",
    "from sklearn.metrics.pairwise import cosine_similarity\n",
    "\n",
    "# Combine ingredients into a single string for vectorization\n",
    "cleaned_data['ingredients_joined'] = cleaned_data['ingredients'].apply(lambda x: ' '.join(x.lower().split(',')))\n",
    "\n",
    "# Create the TF-IDF vectorizer and fit it on the ingredients\n",
    "vectorizer = TfidfVectorizer()\n",
    "tfidf_matrix = vectorizer.fit_transform(cleaned_data['ingredients_joined'])\n",
    "\n"
   ]
  },
  {
   "cell_type": "markdown",
   "metadata": {},
   "source": [
    "Ingredient Matching (convert input into vector and match with preprocessed TF-ID)"
   ]
  },
  {
   "cell_type": "code",
   "execution_count": 4,
   "metadata": {},
   "outputs": [
    {
     "name": "stdout",
     "output_type": "stream",
     "text": [
      "                             title  \\\n",
      "1316616     Tomato Basil Sandwich    \n",
      "655088                    Eggplant   \n",
      "1598590  Tomato Pesto Garden Eggs    \n",
      "1465924    Tomato-Basil Mayonnaise   \n",
      "1527188          Eggplant Parmesan   \n",
      "\n",
      "                                               ingredients        diet  \\\n",
      "1316616  [\"Cream Cheese\", \"Sliced Tomato\", \"Salt, peppe...  vegetarian   \n",
      "655088   [\"eggplant\", \"flour\", \"eggs\", \"grated cheese\",...  vegetarian   \n",
      "1598590  [\"eggs\", \"cottage cheese\", \"tomato\", \"basil\", ...  vegetarian   \n",
      "1465924  [\"1 1/2 cups mayonnaise\", \"1/2 cup fresh basil...       vegan   \n",
      "1527188  [\"2 tablespoons olive oil\", \"1 garlic clove, m...  vegetarian   \n",
      "\n",
      "        allergies   taste  \n",
      "1316616        []   sweet  \n",
      "655088         []  savory  \n",
      "1598590        []  savory  \n",
      "1465924        []  savory  \n",
      "1527188        []  savory  \n"
     ]
    }
   ],
   "source": [
    "def get_recipe_recommendations(user_ingredients, top_n=5):\n",
    "    user_ingredients_str = ' '.join([ing.lower().strip() for ing in user_ingredients])\n",
    "    user_vec = vectorizer.transform([user_ingredients_str])\n",
    "    \n",
    "    # Calculate cosine similarity between user input and recipe ingredients\n",
    "    cosine_similarities = cosine_similarity(user_vec, tfidf_matrix).flatten()\n",
    "    \n",
    "    # Get top N recipe indices\n",
    "    top_recipes_idx = cosine_similarities.argsort()[-top_n:][::-1]\n",
    "    return cleaned_data.iloc[top_recipes_idx]\n"
   ]
  },
  {
   "cell_type": "code",
   "execution_count": null,
   "metadata": {},
   "outputs": [],
   "source": [
    "# Example usage\n",
    "user_ingredients = ['tomato', 'basil', 'cheese']\n",
    "user_diet = 'vegetarian'\n",
    "user_allergies = ['nut-free', 'gluten-free']\n",
    "\n",
    "recommended_recipes = recommend_recipes(user_ingredients, user_diet=user_diet, user_allergies=user_allergies)\n",
    "print(recommended_recipes[['title', 'ingredients', 'diet', 'allergies']])\n"
   ]
  }
 ],
 "metadata": {
  "kernelspec": {
   "display_name": "Python 3",
   "language": "python",
   "name": "python3"
  },
  "language_info": {
   "codemirror_mode": {
    "name": "ipython",
    "version": 3
   },
   "file_extension": ".py",
   "mimetype": "text/x-python",
   "name": "python",
   "nbconvert_exporter": "python",
   "pygments_lexer": "ipython3",
   "version": "3.12.6"
  }
 },
 "nbformat": 4,
 "nbformat_minor": 2
}
