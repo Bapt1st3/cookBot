{
 "cells": [
  {
   "cell_type": "code",
   "execution_count": 7,
   "metadata": {},
   "outputs": [
    {
     "name": "stdout",
     "output_type": "stream",
     "text": [
      "Found the file at: c:\\Users\\bpretet\\Documents\\cookBot\\dataset\\RecipeNLG_dataset.7z\n",
      "Files in the archive: ['RecipeNLG_dataset.csv']\n"
     ]
    }
   ],
   "source": [
    "import py7zr\n",
    "import pandas as pd\n",
    "import os\n",
    "\n",
    "# Absolute path to the .7z file in the 'dataset' directory\n",
    "seven_z_file = r'c:\\Users\\bpretet\\Documents\\cookBot\\dataset\\RecipeNLG_dataset.7z'\n",
    "\n",
    "# Debugging: Check if the file exists\n",
    "if not os.path.exists(seven_z_file):\n",
    "    print(f\"File not found: {seven_z_file}\")\n",
    "else:\n",
    "    print(f\"Found the file at: {seven_z_file}\")\n",
    "\n",
    "    # Open the 7z archive and read the CSV file in-memory\n",
    "    with py7zr.SevenZipFile(seven_z_file, mode='r') as archive:\n",
    "        # List all files in the archive\n",
    "        file_names = archive.getnames()\n",
    "        print(\"Files in the archive:\", file_names)  # List of files in the archive\n",
    "\n",
    "        # Ensure you know the specific CSV file name. Here, we assume it's the first one.\n",
    "        csv_file_name = file_names[0]  # Adjust this if you know the exact CSV name\n",
    "        csv_content = archive.read([csv_file_name])[csv_file_name]\n",
    "\n",
    "        # Load the content directly into pandas, since csv_content is already a BytesIO object\n",
    "        df = pd.read_csv(csv_content)  # Directly pass BytesIO object\n",
    "\n",
    "    # Display the first few rows of the dataframe\n",
    "    df.head()\n"
   ]
  }
 ],
 "metadata": {
  "kernelspec": {
   "display_name": "Python 3",
   "language": "python",
   "name": "python3"
  },
  "language_info": {
   "codemirror_mode": {
    "name": "ipython",
    "version": 3
   },
   "file_extension": ".py",
   "mimetype": "text/x-python",
   "name": "python",
   "nbconvert_exporter": "python",
   "pygments_lexer": "ipython3",
   "version": "3.12.6"
  }
 },
 "nbformat": 4,
 "nbformat_minor": 2
}
